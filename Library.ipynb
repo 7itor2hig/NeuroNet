{
 "cells": [
  {
   "cell_type": "code",
   "execution_count": 153,
   "id": "c7db06a5-3daa-42b2-a2c8-c887a457cab1",
   "metadata": {},
   "outputs": [],
   "source": [
    "import pandas as pd\n",
    "import numpy as np\n",
    "import pickle\n",
    "import os\n",
    "from transformers import AutoTokenizer\n",
    "from sentence_transformers import SentenceTransformer"
   ]
  },
  {
   "cell_type": "code",
   "execution_count": 130,
   "id": "d84eca55-3709-4bb3-97a9-186cb16d83c7",
   "metadata": {},
   "outputs": [],
   "source": [
    "MODEL_NAME = \"sentence-transformers/all-MiniLM-L6-v2\""
   ]
  },
  {
   "cell_type": "code",
   "execution_count": 131,
   "id": "a998017d-260e-4df0-9ffb-825b49953f80",
   "metadata": {},
   "outputs": [],
   "source": [
    "def _get_model():\n",
    "    return SentenceTransformer(MODEL_NAME, \n",
    "                               cache_folder=\"./models_cache\",\n",
    "                               token=None\n",
    "                              )"
   ]
  },
  {
   "cell_type": "code",
   "execution_count": 132,
   "id": "7bb3060a-e5fc-4d52-aa5d-f9476b23179e",
   "metadata": {},
   "outputs": [],
   "source": [
    "def create_vector_embedding(text, embedding_model=\"sentence-transformers/all-MiniLM-L6-v2\"):\n",
    "    model = _get_model()\n",
    "    return model.encode(text, normalize_embeddings=True) #return vector"
   ]
  },
  {
   "cell_type": "code",
   "execution_count": 149,
   "id": "45707453-8003-4f6a-bd19-326451d94e2f",
   "metadata": {},
   "outputs": [],
   "source": [
    "library_directory_path = \"library.csv\"\n",
    "library_text_path = \"library.parquet\"\n",
    "library_vectors_path = \"library.pkl\""
   ]
  },
  {
   "cell_type": "code",
   "execution_count": 155,
   "id": "c7476a08-7dde-4298-a65d-8f04d8d195cb",
   "metadata": {},
   "outputs": [],
   "source": [
    "def get_directory(file_path=\"library.csv\"):\n",
    "    return pd.read_csv(file_path)\n",
    "\n",
    "def get_text(file_path):\n",
    "    return pd.read_parquet(file_path)\n",
    "\n",
    "def get_vectors(file_path=\"library.pkl\"):\n",
    "    with open(file_path, \"rb\") as f:\n",
    "        return pickle.load(f)\n",
    "\n",
    "def load_library(csv_path=\"library.csv\",\n",
    "                 parquet_path=\"library.parquet\",\n",
    "                 pkl_path=\"libary.pkl\"):\n",
    "    \n",
    "    metadata = get_directory(csv_path)\n",
    "    text = get_text(parquet_path)\n",
    "    vectors = get_vectors(pkl_path)\n",
    "\n",
    "    return metadata, text, vectors"
   ]
  },
  {
   "cell_type": "code",
   "execution_count": 150,
   "id": "b488a9f3-ff34-4b65-a168-161f1c9327de",
   "metadata": {},
   "outputs": [],
   "source": [
    "def pull_text_for_document(document_name):\n",
    "    base_name = os.path.splitext(document_name)[0]\n",
    "    \n",
    "    metadata, text, vectors = load_library(library_directory_path,\n",
    "                                           library_text_path,\n",
    "                                           library_vectors_path\n",
    "                                          )\n",
    "    \n",
    "    rows = metadata[(metadata[\"document\"] == base_name)]\n",
    "\n",
    "    if rows.empty:\n",
    "        print(f\"No document found matching: {document_name}\")\n",
    "    \n",
    "    uids = rows[\"chunk_uid\"].tolist()\n",
    "    \n",
    "    return text[text[\"chunk_uid\"].isin(uids)]\n",
    "    "
   ]
  },
  {
   "cell_type": "code",
   "execution_count": 151,
   "id": "2ce6e6cb-386e-425b-bea1-4fb9650edcaa",
   "metadata": {},
   "outputs": [],
   "source": [
    "def pull_data_for_document(document_name):\n",
    "    base_name = os.path.splitext(document_name)[0]\n",
    "\n",
    "    metadata, text, vectors = load_library(library_directory_path,\n",
    "                                           library_text_path,\n",
    "                                           library_vectors_path\n",
    "                                          )\n",
    "\n",
    "    rows = metadata[(metadata[\"document\"] == base_name)]\n",
    "\n",
    "    if rows.empty:\n",
    "        print(f\"No document found matching: {document_name}\")\n",
    "        return\n",
    "\n",
    "    vectors_df = pd.DataFrame(vectors)\n",
    "    \n",
    "    df = rows.merge(text, on=\"chunk_uid\", how=\"inner\")\n",
    "    df = df.merge(vectors_df, on=\"chunk_uid\", how=\"inner\")\n",
    "\n",
    "    return df"
   ]
  },
  {
   "cell_type": "code",
   "execution_count": 187,
   "id": "5340485b-79d6-40d8-b669-66c0302b4686",
   "metadata": {},
   "outputs": [],
   "source": [
    "def topk_cosine(df: pd.DataFrame, query_vector: np.ndarray, K: int=5):\n",
    "\n",
    "    X = np.stack(df[\"vector_embedding\"].to_numpy())\n",
    "    Xn = X / np.linalg.norm(X, axis=1, keepdims=True).clip(min=1e-12)\n",
    "    qn = query_vector / np.linalg.norm(_input_vector).clip(min=1e-12)\n",
    "\n",
    "    sims = Xn @ qn\n",
    "\n",
    "    K = min(K, sims.size)\n",
    "    idx = np.argpartition(-sims, K-1)[:K]\n",
    "    idx = idx[np.argsort(-sims[idx])]\n",
    "\n",
    "    out = df.iloc[idx].copy()\n",
    "    out[\"cosine\"] = sims[idx]\n",
    "\n",
    "    return out"
   ]
  },
  {
   "cell_type": "code",
   "execution_count": 197,
   "id": "d25aa751-5d3f-4750-991c-84016b32cd5b",
   "metadata": {},
   "outputs": [],
   "source": [
    "def find_n_matches(_input, K):\n",
    "    qvec = create_vector_embedding(_input)\n",
    "    \n",
    "    metadata, text, vectors = load_library(library_directory_path,\n",
    "                                           library_text_path,\n",
    "                                           library_vectors_path\n",
    "                                          )\n",
    "\n",
    "    vectors_df = pd.DataFrame(vectors)\n",
    "    matches_df = topk_cosine(vectors_df, qvec, K)\n",
    "    df = matches_df.merge(metadata, on=\"chunk_uid\", how=\"inner\")\n",
    "    df = df.merge(text, on=\"chunk_uid\", how=\"inner\")\n",
    "    \n",
    "    return df"
   ]
  },
  {
   "cell_type": "code",
   "execution_count": 212,
   "id": "a5502da2-b820-4ab0-bd62-2ba6a8a84f72",
   "metadata": {},
   "outputs": [],
   "source": [
    "_input = \"Whether because they resented the lack of choice — the way access to discounts effectively forced you to pay extra for shopping without a card — or worried about the unknown fate of their shopping data, customers found ways to make the data gathered about them less reliable, less useful, for its conjectured purposes.\"\n",
    "\n",
    "matches = find_n_matches(_input, 3)"
   ]
  },
  {
   "cell_type": "code",
   "execution_count": 213,
   "id": "74bb0746-a272-46bd-8477-96f857a3ba1e",
   "metadata": {},
   "outputs": [
    {
     "data": {
      "text/html": [
       "<div>\n",
       "<style scoped>\n",
       "    .dataframe tbody tr th:only-of-type {\n",
       "        vertical-align: middle;\n",
       "    }\n",
       "\n",
       "    .dataframe tbody tr th {\n",
       "        vertical-align: top;\n",
       "    }\n",
       "\n",
       "    .dataframe thead th {\n",
       "        text-align: right;\n",
       "    }\n",
       "</style>\n",
       "<table border=\"1\" class=\"dataframe\">\n",
       "  <thead>\n",
       "    <tr style=\"text-align: right;\">\n",
       "      <th></th>\n",
       "      <th>chunk_uid</th>\n",
       "      <th>vector_embedding</th>\n",
       "      <th>cosine</th>\n",
       "      <th>document</th>\n",
       "      <th>document_type</th>\n",
       "      <th>n_tokens</th>\n",
       "      <th>embedding_model</th>\n",
       "      <th>character_start</th>\n",
       "      <th>character_end</th>\n",
       "      <th>timestamp_iso</th>\n",
       "      <th>timestamp_ms</th>\n",
       "      <th>text</th>\n",
       "    </tr>\n",
       "  </thead>\n",
       "  <tbody>\n",
       "    <tr>\n",
       "      <th>0</th>\n",
       "      <td>2173cf50e5da055b5ff7af6204187280a9837cc0a33b3a...</td>\n",
       "      <td>[-0.07057506, 0.06895024, -0.024253165, 0.0449...</td>\n",
       "      <td>0.717731</td>\n",
       "      <td>Obfuscation</td>\n",
       "      <td>.docx</td>\n",
       "      <td>201</td>\n",
       "      <td>sentence-transformers/all-MiniLM-L6-v2</td>\n",
       "      <td>1317</td>\n",
       "      <td>2456</td>\n",
       "      <td>2025-09-01T17:51:25.070Z</td>\n",
       "      <td>1756749085070</td>\n",
       "      <td>Whether because they resented the lack of choi...</td>\n",
       "    </tr>\n",
       "    <tr>\n",
       "      <th>1</th>\n",
       "      <td>2791d212bef0adec6dc00583aec2aab49dc787537f62e3...</td>\n",
       "      <td>[-0.1424175, 0.064272344, -0.025587615, 0.0227...</td>\n",
       "      <td>0.710471</td>\n",
       "      <td>Obfuscation</td>\n",
       "      <td>.docx</td>\n",
       "      <td>239</td>\n",
       "      <td>sentence-transformers/all-MiniLM-L6-v2</td>\n",
       "      <td>591</td>\n",
       "      <td>1846</td>\n",
       "      <td>2025-09-01T17:51:25.029Z</td>\n",
       "      <td>1756749085029</td>\n",
       "      <td>So far, so normal — but the appearance of “loy...</td>\n",
       "    </tr>\n",
       "    <tr>\n",
       "      <th>2</th>\n",
       "      <td>483c073d837ac8e09f4730de2c07ff0e66d05c28867abe...</td>\n",
       "      <td>[-0.0809205, 0.06468982, -0.027038231, 0.01004...</td>\n",
       "      <td>0.691370</td>\n",
       "      <td>Obfuscation</td>\n",
       "      <td>.docx</td>\n",
       "      <td>207</td>\n",
       "      <td>sentence-transformers/all-MiniLM-L6-v2</td>\n",
       "      <td>0</td>\n",
       "      <td>1049</td>\n",
       "      <td>2025-09-01T17:51:24.989Z</td>\n",
       "      <td>1756749084989</td>\n",
       "      <td>1. Introduction: The problem of data gathering...</td>\n",
       "    </tr>\n",
       "  </tbody>\n",
       "</table>\n",
       "</div>"
      ],
      "text/plain": [
       "                                           chunk_uid  \\\n",
       "0  2173cf50e5da055b5ff7af6204187280a9837cc0a33b3a...   \n",
       "1  2791d212bef0adec6dc00583aec2aab49dc787537f62e3...   \n",
       "2  483c073d837ac8e09f4730de2c07ff0e66d05c28867abe...   \n",
       "\n",
       "                                    vector_embedding    cosine     document  \\\n",
       "0  [-0.07057506, 0.06895024, -0.024253165, 0.0449...  0.717731  Obfuscation   \n",
       "1  [-0.1424175, 0.064272344, -0.025587615, 0.0227...  0.710471  Obfuscation   \n",
       "2  [-0.0809205, 0.06468982, -0.027038231, 0.01004...  0.691370  Obfuscation   \n",
       "\n",
       "  document_type  n_tokens                         embedding_model  \\\n",
       "0         .docx       201  sentence-transformers/all-MiniLM-L6-v2   \n",
       "1         .docx       239  sentence-transformers/all-MiniLM-L6-v2   \n",
       "2         .docx       207  sentence-transformers/all-MiniLM-L6-v2   \n",
       "\n",
       "   character_start  character_end             timestamp_iso   timestamp_ms  \\\n",
       "0             1317           2456  2025-09-01T17:51:25.070Z  1756749085070   \n",
       "1              591           1846  2025-09-01T17:51:25.029Z  1756749085029   \n",
       "2                0           1049  2025-09-01T17:51:24.989Z  1756749084989   \n",
       "\n",
       "                                                text  \n",
       "0  Whether because they resented the lack of choi...  \n",
       "1  So far, so normal — but the appearance of “loy...  \n",
       "2  1. Introduction: The problem of data gathering...  "
      ]
     },
     "execution_count": 213,
     "metadata": {},
     "output_type": "execute_result"
    }
   ],
   "source": [
    "for idx, row in matches.iterrows("
   ]
  },
  {
   "cell_type": "code",
   "execution_count": null,
   "id": "90f1bd81-d9ba-487c-b3b0-aa8d36bc5509",
   "metadata": {},
   "outputs": [],
   "source": []
  },
  {
   "cell_type": "code",
   "execution_count": null,
   "id": "46a5401c-6b6b-4f86-878d-5159f8dc5610",
   "metadata": {},
   "outputs": [],
   "source": []
  }
 ],
 "metadata": {
  "kernelspec": {
   "display_name": "Python 3 (ipykernel)",
   "language": "python",
   "name": "python3"
  },
  "language_info": {
   "codemirror_mode": {
    "name": "ipython",
    "version": 3
   },
   "file_extension": ".py",
   "mimetype": "text/x-python",
   "name": "python",
   "nbconvert_exporter": "python",
   "pygments_lexer": "ipython3",
   "version": "3.12.9"
  }
 },
 "nbformat": 4,
 "nbformat_minor": 5
}
