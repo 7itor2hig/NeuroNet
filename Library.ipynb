{
 "cells": [
  {
   "cell_type": "code",
   "execution_count": 153,
   "id": "c7db06a5-3daa-42b2-a2c8-c887a457cab1",
   "metadata": {},
   "outputs": [],
   "source": [
    "import pandas as pd\n",
    "import numpy as np\n",
    "import pickle\n",
    "import os\n",
    "from transformers import AutoTokenizer\n",
    "from sentence_transformers import SentenceTransformer"
   ]
  },
  {
   "cell_type": "code",
   "execution_count": 130,
   "id": "d84eca55-3709-4bb3-97a9-186cb16d83c7",
   "metadata": {},
   "outputs": [],
   "source": [
    "MODEL_NAME = \"sentence-transformers/all-MiniLM-L6-v2\""
   ]
  },
  {
   "cell_type": "code",
   "execution_count": 131,
   "id": "a998017d-260e-4df0-9ffb-825b49953f80",
   "metadata": {},
   "outputs": [],
   "source": [
    "def _get_model():\n",
    "    return SentenceTransformer(MODEL_NAME, \n",
    "                               cache_folder=\"./models_cache\",\n",
    "                               token=None\n",
    "                              )"
   ]
  },
  {
   "cell_type": "code",
   "execution_count": 132,
   "id": "7bb3060a-e5fc-4d52-aa5d-f9476b23179e",
   "metadata": {},
   "outputs": [],
   "source": [
    "def create_vector_embedding(text, embedding_model=\"sentence-transformers/all-MiniLM-L6-v2\"):\n",
    "    model = _get_model()\n",
    "    return model.encode(text, normalize_embeddings=True) #return vector"
   ]
  },
  {
   "cell_type": "code",
   "execution_count": 149,
   "id": "45707453-8003-4f6a-bd19-326451d94e2f",
   "metadata": {},
   "outputs": [],
   "source": [
    "library_directory_path = \"library.csv\"\n",
    "library_text_path = \"library.parquet\"\n",
    "library_vectors_path = \"library.pkl\""
   ]
  },
  {
   "cell_type": "code",
   "execution_count": 155,
   "id": "c7476a08-7dde-4298-a65d-8f04d8d195cb",
   "metadata": {},
   "outputs": [],
   "source": [
    "def get_directory(file_path=\"library.csv\"):\n",
    "    return pd.read_csv(file_path)\n",
    "\n",
    "def get_text(file_path):\n",
    "    return pd.read_parquet(file_path)\n",
    "\n",
    "def get_vectors(file_path=\"library.pkl\"):\n",
    "    with open(file_path, \"rb\") as f:\n",
    "        return pickle.load(f)\n",
    "\n",
    "def load_library(csv_path=\"library.csv\",\n",
    "                 parquet_path=\"library.parquet\",\n",
    "                 pkl_path=\"libary.pkl\"):\n",
    "    \n",
    "    metadata = get_directory(csv_path)\n",
    "    text = get_text(parquet_path)\n",
    "    vectors = get_vectors(pkl_path)\n",
    "\n",
    "    return metadata, text, vectors"
   ]
  },
  {
   "cell_type": "code",
   "execution_count": 150,
   "id": "b488a9f3-ff34-4b65-a168-161f1c9327de",
   "metadata": {},
   "outputs": [],
   "source": [
    "def pull_text_for_document(document_name):\n",
    "    base_name = os.path.splitext(document_name)[0]\n",
    "    \n",
    "    metadata, text, vectors = load_library(library_directory_path,\n",
    "                                           library_text_path,\n",
    "                                           library_vectors_path\n",
    "                                          )\n",
    "    \n",
    "    rows = metadata[(metadata[\"document\"] == base_name)]\n",
    "\n",
    "    if rows.empty:\n",
    "        print(f\"No document found matching: {document_name}\")\n",
    "    \n",
    "    uids = rows[\"chunk_uid\"].tolist()\n",
    "    \n",
    "    return text[text[\"chunk_uid\"].isin(uids)]\n",
    "    "
   ]
  },
  {
   "cell_type": "code",
   "execution_count": 151,
   "id": "2ce6e6cb-386e-425b-bea1-4fb9650edcaa",
   "metadata": {},
   "outputs": [],
   "source": [
    "def pull_data_for_document(document_name):\n",
    "    base_name = os.path.splitext(document_name)[0]\n",
    "\n",
    "    metadata, text, vectors = load_library(library_directory_path,\n",
    "                                           library_text_path,\n",
    "                                           library_vectors_path\n",
    "                                          )\n",
    "\n",
    "    rows = metadata[(metadata[\"document\"] == base_name)]\n",
    "\n",
    "    if rows.empty:\n",
    "        print(f\"No document found matching: {document_name}\")\n",
    "        return\n",
    "\n",
    "    vectors_df = pd.DataFrame(vectors)\n",
    "    \n",
    "    df = rows.merge(text, on=\"chunk_uid\", how=\"inner\")\n",
    "    df = df.merge(vectors_df, on=\"chunk_uid\", how=\"inner\")\n",
    "\n",
    "    return df"
   ]
  },
  {
   "cell_type": "code",
   "execution_count": 187,
   "id": "5340485b-79d6-40d8-b669-66c0302b4686",
   "metadata": {},
   "outputs": [],
   "source": [
    "def topk_cosine(df: pd.DataFrame, query_vector: np.ndarray, K: int=5):\n",
    "\n",
    "    X = np.stack(df[\"vector_embedding\"].to_numpy())\n",
    "    Xn = X / np.linalg.norm(X, axis=1, keepdims=True).clip(min=1e-12)\n",
    "    qn = query_vector / np.linalg.norm(_input_vector).clip(min=1e-12)\n",
    "\n",
    "    sims = Xn @ qn\n",
    "\n",
    "    K = min(K, sims.size)\n",
    "    idx = np.argpartition(-sims, K-1)[:K]\n",
    "    idx = idx[np.argsort(-sims[idx])]\n",
    "\n",
    "    out = df.iloc[idx].copy()\n",
    "    out[\"cosine\"] = sims[idx]\n",
    "\n",
    "    return out"
   ]
  },
  {
   "cell_type": "code",
   "execution_count": 197,
   "id": "d25aa751-5d3f-4750-991c-84016b32cd5b",
   "metadata": {},
   "outputs": [],
   "source": [
    "def find_n_matches(_input, K):\n",
    "    qvec = create_vector_embedding(_input)\n",
    "    \n",
    "    metadata, text, vectors = load_library(library_directory_path,\n",
    "                                           library_text_path,\n",
    "                                           library_vectors_path\n",
    "                                          )\n",
    "\n",
    "    vectors_df = pd.DataFrame(vectors)\n",
    "    matches_df = topk_cosine(vectors_df, qvec, K)\n",
    "    df = matches_df.merge(metadata, on=\"chunk_uid\", how=\"inner\")\n",
    "    df = df.merge(text, on=\"chunk_uid\", how=\"inner\")\n",
    "    \n",
    "    return df"
   ]
  },
  {
   "cell_type": "code",
   "execution_count": 233,
   "id": "a5502da2-b820-4ab0-bd62-2ba6a8a84f72",
   "metadata": {},
   "outputs": [],
   "source": [
    "_input = \"For the mind, knowledge is not a static entity embedded in neural tissue but a dynamic process of activation. It is a pattern of signals, timings, and intensities across neural networks that is always transient and context-dependent. Structural connections (synapses and circuits) create the potential for knowledge to emerge, but they are not knowledge itself. Just as sheet music (document) is not the performance of a symphony, yet it contains the notes (data) necessary to perform the music (information), neural wiring is not the knowledge expressed through it. What we call “knowing” exists only in the live orchestration of neural signals. The information of the mind only becomes visible through behavior or the creation of artifacts driven by those signals (speaking, writing, acting, creating). There, cognition is embodied into objects, carrying the information of those signals into physical objects.\"\n",
    "\n",
    "matches = find_n_matches(_input, 15)"
   ]
  },
  {
   "cell_type": "code",
   "execution_count": 234,
   "id": "74bb0746-a272-46bd-8477-96f857a3ba1e",
   "metadata": {},
   "outputs": [
    {
     "name": "stdout",
     "output_type": "stream",
     "text": [
      "0.5551691651344299 \n",
      " eScholarship UC item 4x2561mb-1 \n",
      " (This distinction may be overstated. Knowledge may well be represented in the brain in some tangible, physical way. However, for present purposes and for the time being, treating knowledge in the mind as importantly different from artificial stores of information seems reasonable and useful. Academic examinations test individuals' ability to answer questions or to solve problems, which is presumed to provide indirect measures of what they know. But that is not the same.) Knowledge, however, can be represented, just as an event can be filmed. However, the representation is no more knowledge than the film is the event. Any such representation is necessarily in tangible form (sign, signal, data, text, film, etc.) and so representations of knowledge (and of events) are necessarily “information-as-thing.” Information-as-thing is of special interest in the study of information systems. It is with information in this sense that information systems deal directly. Libraries deal with books; computer-based information systems handle data in the form of physical bits and bytes; museums deal directly with objects. \n",
      "\n",
      "0.4847746193408966 \n",
      " The-Discipline-of-Organizing-4th-Professional-Edition-1649894802._print \n",
      " NEW RIDERS. [Campbell2011] Joseph Keim Campbell, Michael O’Rourke, and Matthew H. Slater. 2011.Carving Nature at Its Joints: 1162 | Bibliography Natural Kinds in Metaphysics and Science. Cambridge, MA. A BRADFORD BOOK. [Cano2005] Pedro Cano, Eloi Batlle, Emilia Gómez, Ro De C. T. Gomes, and Madeleine Bonnet. 2005.“Audio Fingerprinting: Concepts And Applications”. In Computational Intelligence for Modelling and Prediction. Saman K. Halgamuge and Lipo Wang, (Eds.). New York. SPRINGER. [Carey1991] Susan Carey and Rochel Gelman. 1991. The Epigenesis of Mind: Essays on Biology and Cognition. New York. PSYCHOLOGY PRESS. http://www.amazon.co.uk/The-Epigenesis-Mind-Cognition-Symposia/dp/toc/0805804382. [Carney2005] David Carney, David Fisher, Ed Morris, and Pat Place. 2005. “Some Current Approaches to Interoperability”. \n",
      "\n",
      "0.4589834213256836 \n",
      " eScholarship UC item 4x2561mb-1 \n",
      " On these definitions, there can be no such thing as a “knowledge-based” expert system or a “knowledge access” system, only systems based on physical representations of knowledge. This introductory discussion can be rounded out by reference to a fourth element: information processing, the handling, manipulating, and deriving of new forms or versions of information-as-thing. (One could regard the process of becoming informed as a sort of information processing, but, to reduce confusion, we prefer to separate and exclude mental information¬as-process from the scope of “information processing.”) Our discussion thus far can be summarized in terms of two distinctions (1) Between entities and processes; and (2) Between intangibles and tangibles. Taken in conjunction, these two distinctions yield four quite different aspects of information and information systems. See Fig. 1. INTANGIBLE TANGIBLE ENTITY 2. Information-as-knowledge Knowledge 3. Information-as-thing Knowledge Data, document PROCESS 1. Information-as-process Becoming informed Information processing Data processing FIG. 1. Four aspects of information. A Reverse Approach: What is Informative? \n",
      "\n",
      "0.4557240605354309 \n",
      " The-Discipline-of-Organizing-4th-Professional-Edition-1649894802._print \n",
      " Even musical scores and recordings, while as much tangible things as paintings and poems, are merely containers that hold the potential for musical experience and not the music itself. Most contemporary popular music is in the form of songs, in which texts are set to a melody and supported by instrumental harmonies. If we want to categorize or describe such music by its lyrical content, we can still 5. The key idea that made deep learning possible is the use of “backpropagation” to adjust the weights on features by working backwards from the output (the object classification produced by the network) all the way back to the input. Mathematically-sophisticated readers can find a concise explanation and history of deep learning in (LeCun, Bengio, and Hinton 2015). LeCun and Hinton were part of research teams that independently invented backpropagation in the mid 1980s. Today, LeCun heads Facebook’s research group on artificial intelligence, and Hinton has a similar role at Google. Describing Non-text Resources | 501 rely on methods for describing texts. But if we want to describe the music itself, we need to take a somewhat different approach. \n",
      "\n",
      "0.44655564427375793 \n",
      " eScholarship UC item 4x2561mb-1 \n",
      " Any such representation is necessarily in tangible form (sign, signal, data, text, film, etc.) and so representations of knowledge (and of events) are necessarily “information-as-thing.” Information-as-thing is of special interest in the study of information systems. It is with information in this sense that information systems deal directly. Libraries deal with books; computer-based information systems handle data in the form of physical bits and bytes; museums deal directly with objects. The intention may be that users will become informed (information-as-process) and that there will be an imparting of knowledge (information-as-knowledge). But the means provided, what is handled and operated upon, what is stored and retrieved, is physical information (information-as-thing). On these definitions, there can be no such thing as a “knowledge-based” expert system or a “knowledge access” system, only systems based on physical representations of knowledge. This introductory discussion can be rounded out by reference to a fourth element: information processing, the handling, manipulating, and deriving of new forms or versions of information-as-thing. \n",
      "\n",
      "0.44168969988822937 \n",
      " The-Discipline-of-Organizing-4th-Professional-Edition-1649894802._print \n",
      " THE MIT PRESS. [Robinson2008] David Robinson, Harlan Yu, William P. Zeller, and Edward W. Felten. 2008.“Government Data and the Invisible Hand”. Yale Journal of Law and Technology. Vol. 11. pp. 160-176. http://papers.ssrn.com/abstract=1138083. [Rogers2008] Timothy T. Rogers and James L. Mcclelland. 2008. “Précis of Semantic Cognition: A Parallel Distributed Processing Approach”. Behavioral and Brain Sciences. Vol. 31. no. 6. pp. 689-749. [Rosch1975] Eleanor Rosch. 1975. “Cognitive representations of semantic categories”. Journal of Experimental Psychology: General. Vol. 104. no. 3. pp. 192-233. http://psycnet.apa.org/journals/xge/104/3/192/. doi: 10.1037/0096-3445.104.3.192. [Rosch1999] Eleanor Rosch. 1999. “Principles of Categorization”. \n",
      "\n",
      "0.4402267336845398 \n",
      " The-Discipline-of-Organizing-4th-Professional-Edition-1649894802._print \n",
      " Used with permission.) On a more granular level, musicians are endlessly innovative in finding ways to categorize, describe, and analyze not simply large-scale musical genres, but the notes themselves. In the accompanying photo showing the record collection of professional DJ “Kid Kameleon,” we see that the records are arranged not simply by genre, but also by beats-per-minute (BPM). For Kid Kameleon, these records represent the resources of his musical creative process, and arranging them by BPM allows him to pull exactly the correct musical material he needs to keep the music flowing during a performance. His classification system is therefore a taxonomy that moves from the broad strokes of genre down to the fine grains of specific arrangements of notes and rhythms. This photo is not simply a picture of a record collection: it is a visual representation of an artist’s creative process.9 9. This method of organizing musical resources for ready access (physically and cognitively) is one that has both an illustrious past and a fascinating future. \n",
      "\n",
      "0.4341332018375397 \n",
      " eScholarship UC item 4x2561mb-1 \n",
      " The purpose of this examination of the notion of “information-as-thing” is to: (1) Clarify its meaning in relation to other uses of the term “information;” (2) Affirm the fundamental role of “information-as-thing” in information systems; and (3) Speculate on possible use of the notion of “information-as-thing” in bringing theoretical order to the heterogeneous, ill-ordered fields associated with “information science.” The distinction between intangibles (knowledge and information-as-knowledge) and tangibles (information-as-thing) is central to what follows. If you can touch it or measure it Buckland, Information as thing. JASIS, 1991. 3 directly, it is not knowledge, but must be some physical thing, possibly information-as-thing. (This distinction may be overstated. Knowledge may well be represented in the brain in some tangible, physical way. However, for present purposes and for the time being, treating knowledge in the mind as importantly different from artificial stores of information seems reasonable and useful. \n",
      "\n",
      "0.43303993344306946 \n",
      " The-Discipline-of-Organizing-4th-Professional-Edition-1649894802._print \n",
      " Likewise, the “egghead” position that “categories are in the mind” has been called rational, constructive, top-down, experiential, and embodied—and they are also not synonyms. See (Bulmer 1970). See also (Lakoff 1990), (Malt 1995). 3. Is there a “universal grammar” or a “language faculty” that imposes strong constraints on human language and cognition? (Chomsky 1965) and (Jackendoff 1996) think so. Such proposals imply cognitive representations in which categories are explicit structures in memory with associated instances and properties. In contrast, generalized learning theories model category formation as the adjustment of the patterns and weighting of connections in neural processing networks that are not specialized for language in any way. Computational simulations of semantic networks can reproduce the 616 | The What and Why of Categories Even before they can talk, children behave in ways that suggest they have formed categories based on shape, color, and other properties they can directly perceive in physical objects.4 People almost effortlessly learn tens of thousands of categories embodied in the culture and language in which they grow up. \n",
      "\n",
      "0.4224621057510376 \n",
      " The-Discipline-of-Organizing-4th-Professional-Edition-1649894802._print \n",
      " Just as there are many laws and regulations that restrict the organization of physical resources, there are laws and regulations that constrain the arrangements of digital ones. Many information systems that generate or collect transactional data are prohibited from sharing any records that identify specific people. Banking, accounting, and legal organizing systems are made more homogeneous by compliance and reporting standards and rules. Organizing Mental Resources Memories can be viewed either as physical (because at some level they are represented in the brain) or as digital (because they are retrieved as electrical impulses), but memory techniques like the method of loci and memory palaces reify this duality in an interesting way. While physical resources must be stored in physical locations, our powerful spatial memory provides an opportunity for us to, in a sense, store mental resources in physical locations. Our hippocampus, the brain component dedicated to memory, is highly developed for storing and recalling memories of physical locations. Organizing Resources | 203 The ancient Greeks relied on this capability and devised a mnemonic system—the method of loci—which involved attaching things to remember, the key ideas in a speech perhaps, to well-known physical locations. \n",
      "\n",
      "0.42072972655296326 \n",
      " eScholarship UC item 4x2561mb-1 \n",
      " (3) Information-as-thing: The term “information” is also used attributively for objects, such as data and documents, that are referred to as “information” because they are regarded as being informative, as “having the quality of imparting knowledge or communicating information; instructive.” (Oxford English Dictionary, 1989, vol. 7, p. 946). A key characteristic of “information-as-knowledge” is that it is intangible: one cannot touch it or measure it in any direct way. Knowledge, belief, and opinion are personal, subjective, and conceptual. Therefore, to communicate them, they have to be expressed, described, or represented in some physical way, as a signal, text, or communication. Any such expression, description, or representation would be “information-as-thing”. We shall discuss implications of this below. Some theorists have objected to the attributive use of the term “information” to denote a thing in the third sense above. Wiener asserted that “Information is information, not material nor energy.” Machlup (1983, p. \n",
      "\n",
      "0.41375431418418884 \n",
      " The-Discipline-of-Organizing-4th-Professional-Edition-1649894802._print \n",
      " Most people credit Ackoff’s From Data to Wisdom (Ackoff 1989) as the first articulation of the hierarchy in an information science and systems context. The hierarchy is mentioned in nearly twenty textbooks, but their close analysis by (Rowley 2007) reveals only partial agreement on the definitions and relationships among the four key concepts. The hierarchy has been criticized as lacking in philosophical rigor (Fricke 2009) and for ignoring the context-specificity of how knowledge is learned and applied (Jennex 2009). (Larose 2014) 38 | The Discipline of Organizing content of the resource, People who are serious about music description rightly criticize streaming services and online stores that have only a single “artist” field because this fails to distinguish the composer, conductor, orchestra, and other people with distinct roles in creating the music. If we allow the concept of information to be anything we can study—to be “anything that informs”—the concept becomes unbounded. Our goal in this book is to bridge the intellectual gulf that separates the many disciplines that share the goal of organizing but differ in what they organize. \n",
      "\n",
      "0.41219937801361084 \n",
      " Nouns in WordNet \n",
      " For .ny gi.en syn..t. its de~ning fealUre. must be indi-vidually necessary and jointly sufficient, and che<;king that One li,t of fealures is included in al>Other lisl mUSI be a basic cognitive operation. Many oogn;li.e psychologist, have doubled \\hat all words can he so easily charactrriud by stICh li5ts of defining features. Although mWI Ie..ioographe.. and computer tcienti\"s ~nd lexical hierarchies 10 be a natural way to represent the organization of nomil\\31 meanings. many cognitive $Cicntisu have expressed serious doublS about it. The douhu are not SO much about the exi.tence of hyponymic relations between l-exieaJiud cot>CCpu as they are about tilt copitive pr~... whereby ouch relationo are realized in human lexical memory. \n",
      "\n",
      "0.4092702567577362 \n",
      " eScholarship UC item 4x2561mb-1 \n",
      " Information-as-knowledge Knowledge 3. Information-as-thing Knowledge Data, document PROCESS 1. Information-as-process Becoming informed Information processing Data processing FIG. 1. Four aspects of information. A Reverse Approach: What is Informative? Instead of the tedious task of reviewing candidate objects and inquiring whether or not they should be considered to be examples of information-as-thing, we can reverse the process and ask people to identify the things by or on account of which they came to be informed. People Buckland, Information as thing. JASIS, 1991. 4 will say that they are informed by a very wide variety of things, such a messages, data, documents, objects, events, the view through the window, by any kind of evidence. This point was recognized by Brookes (1979, p. 14): “In the sciences it has long been recognized that the primary source of information is not the literature of the sciences but observation of the relevant natural phenomena. Scientists (and others) find 'sermons in stones and books in the running brooks'.” How might we best sort out these candidates for being regarded as information? \n",
      "\n",
      "0.40897130966186523 \n",
      " The-Discipline-of-Organizing-4th-Professional-Edition-1649894802._print \n",
      " Some arrangements of physical resources are constrained or precluded by resource properties that might cause problems for other resources or for their users. (See “Organizing with Properties of Physical Resources”) • What are some of the ways in which the mind follows Gestalt principles and imposes simpler interpretations on visual sensations? There are always multiple interpretations of the sensory stimuli gathered by our visual system, but the mind imposes the simplest ones: things near each other are grouped, complex shapes are viewed as simple shapes that are overlapping, missing information needed to see separate visual patterns as continuous or whole is filled in, and ambiguous figure-ground illusions are given one interpretation at a time. (See the sidebar, Gestalt Principles) • How can built environments influence the expectations, behaviors, and experiences of everyone who enters the space? Built environments can be designed to encourage or discourage interactions between people, to create a sense of freedom or confinement, to reward exploration or enforce efficiency. 292 | Key Points in Chapter Three (See “Organizing Built Environments”) • How can we define the activity of “Information Architecture” using the language of the discipline of organizing? \n",
      "\n"
     ]
    }
   ],
   "source": [
    "for idx, row in matches.iterrows():\n",
    "    print(row[\"cosine\"], \"\\n\", row[\"document\"], \"\\n\", row[\"text\"], \"\\n\")"
   ]
  },
  {
   "cell_type": "code",
   "execution_count": null,
   "id": "90f1bd81-d9ba-487c-b3b0-aa8d36bc5509",
   "metadata": {},
   "outputs": [],
   "source": []
  },
  {
   "cell_type": "code",
   "execution_count": 224,
   "id": "46a5401c-6b6b-4f86-878d-5159f8dc5610",
   "metadata": {},
   "outputs": [],
   "source": [
    "#for idx, row in pull_text_for_document(\"?sh=3a6bbac87d53\").iterrows():\n",
    "#    print(row['text'],\"\\n\")"
   ]
  },
  {
   "cell_type": "code",
   "execution_count": null,
   "id": "bab0a944-c8c8-454f-8997-74f8fefaeb64",
   "metadata": {},
   "outputs": [],
   "source": []
  }
 ],
 "metadata": {
  "kernelspec": {
   "display_name": "Python 3 (ipykernel)",
   "language": "python",
   "name": "python3"
  },
  "language_info": {
   "codemirror_mode": {
    "name": "ipython",
    "version": 3
   },
   "file_extension": ".py",
   "mimetype": "text/x-python",
   "name": "python",
   "nbconvert_exporter": "python",
   "pygments_lexer": "ipython3",
   "version": "3.12.9"
  }
 },
 "nbformat": 4,
 "nbformat_minor": 5
}
