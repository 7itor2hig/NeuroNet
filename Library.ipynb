{
 "cells": [
  {
   "cell_type": "code",
   "execution_count": 153,
   "id": "c7db06a5-3daa-42b2-a2c8-c887a457cab1",
   "metadata": {},
   "outputs": [],
   "source": [
    "import pandas as pd\n",
    "import numpy as np\n",
    "import pickle\n",
    "import os\n",
    "from transformers import AutoTokenizer\n",
    "from sentence_transformers import SentenceTransformer"
   ]
  },
  {
   "cell_type": "code",
   "execution_count": 130,
   "id": "d84eca55-3709-4bb3-97a9-186cb16d83c7",
   "metadata": {},
   "outputs": [],
   "source": [
    "MODEL_NAME = \"sentence-transformers/all-MiniLM-L6-v2\""
   ]
  },
  {
   "cell_type": "code",
   "execution_count": 131,
   "id": "a998017d-260e-4df0-9ffb-825b49953f80",
   "metadata": {},
   "outputs": [],
   "source": [
    "def _get_model():\n",
    "    return SentenceTransformer(MODEL_NAME, \n",
    "                               cache_folder=\"./models_cache\",\n",
    "                               token=None\n",
    "                              )"
   ]
  },
  {
   "cell_type": "code",
   "execution_count": 132,
   "id": "7bb3060a-e5fc-4d52-aa5d-f9476b23179e",
   "metadata": {},
   "outputs": [],
   "source": [
    "def create_vector_embedding(text, embedding_model=\"sentence-transformers/all-MiniLM-L6-v2\"):\n",
    "    model = _get_model()\n",
    "    return model.encode(text, normalize_embeddings=True) #return vector"
   ]
  },
  {
   "cell_type": "code",
   "execution_count": 149,
   "id": "45707453-8003-4f6a-bd19-326451d94e2f",
   "metadata": {},
   "outputs": [],
   "source": [
    "library_directory_path = \"library.csv\"\n",
    "library_text_path = \"library.parquet\"\n",
    "library_vectors_path = \"library.pkl\""
   ]
  },
  {
   "cell_type": "code",
   "execution_count": 155,
   "id": "c7476a08-7dde-4298-a65d-8f04d8d195cb",
   "metadata": {},
   "outputs": [],
   "source": [
    "def get_directory(file_path=\"library.csv\"):\n",
    "    return pd.read_csv(file_path)\n",
    "\n",
    "def get_text(file_path):\n",
    "    return pd.read_parquet(file_path)\n",
    "\n",
    "def get_vectors(file_path=\"library.pkl\"):\n",
    "    with open(file_path, \"rb\") as f:\n",
    "        return pickle.load(f)\n",
    "\n",
    "def load_library(csv_path=\"library.csv\",\n",
    "                 parquet_path=\"library.parquet\",\n",
    "                 pkl_path=\"libary.pkl\"):\n",
    "    \n",
    "    metadata = get_directory(csv_path)\n",
    "    text = get_text(parquet_path)\n",
    "    vectors = get_vectors(pkl_path)\n",
    "\n",
    "    return metadata, text, vectors"
   ]
  },
  {
   "cell_type": "code",
   "execution_count": 150,
   "id": "b488a9f3-ff34-4b65-a168-161f1c9327de",
   "metadata": {},
   "outputs": [],
   "source": [
    "def pull_text_for_document(document_name):\n",
    "    base_name = os.path.splitext(document_name)[0]\n",
    "    \n",
    "    metadata, text, vectors = load_library(library_directory_path,\n",
    "                                           library_text_path,\n",
    "                                           library_vectors_path\n",
    "                                          )\n",
    "    \n",
    "    rows = metadata[(metadata[\"document\"] == base_name)]\n",
    "\n",
    "    if rows.empty:\n",
    "        print(f\"No document found matching: {document_name}\")\n",
    "    \n",
    "    uids = rows[\"chunk_uid\"].tolist()\n",
    "    \n",
    "    return text[text[\"chunk_uid\"].isin(uids)]\n",
    "    "
   ]
  },
  {
   "cell_type": "code",
   "execution_count": 151,
   "id": "2ce6e6cb-386e-425b-bea1-4fb9650edcaa",
   "metadata": {},
   "outputs": [],
   "source": [
    "def pull_data_for_document(document_name):\n",
    "    base_name = os.path.splitext(document_name)[0]\n",
    "\n",
    "    metadata, text, vectors = load_library(library_directory_path,\n",
    "                                           library_text_path,\n",
    "                                           library_vectors_path\n",
    "                                          )\n",
    "\n",
    "    rows = metadata[(metadata[\"document\"] == base_name)]\n",
    "\n",
    "    if rows.empty:\n",
    "        print(f\"No document found matching: {document_name}\")\n",
    "        return\n",
    "\n",
    "    vectors_df = pd.DataFrame(vectors)\n",
    "    \n",
    "    df = rows.merge(text, on=\"chunk_uid\", how=\"inner\")\n",
    "    df = df.merge(vectors_df, on=\"chunk_uid\", how=\"inner\")\n",
    "\n",
    "    return df"
   ]
  },
  {
   "cell_type": "code",
   "execution_count": 187,
   "id": "5340485b-79d6-40d8-b669-66c0302b4686",
   "metadata": {},
   "outputs": [],
   "source": [
    "def topk_cosine(df: pd.DataFrame, query_vector: np.ndarray, K: int=5):\n",
    "\n",
    "    X = np.stack(df[\"vector_embedding\"].to_numpy())\n",
    "    Xn = X / np.linalg.norm(X, axis=1, keepdims=True).clip(min=1e-12)\n",
    "    qn = query_vector / np.linalg.norm(_input_vector).clip(min=1e-12)\n",
    "\n",
    "    sims = Xn @ qn\n",
    "\n",
    "    K = min(K, sims.size)\n",
    "    idx = np.argpartition(-sims, K-1)[:K]\n",
    "    idx = idx[np.argsort(-sims[idx])]\n",
    "\n",
    "    out = df.iloc[idx].copy()\n",
    "    out[\"cosine\"] = sims[idx]\n",
    "\n",
    "    return out"
   ]
  },
  {
   "cell_type": "code",
   "execution_count": 197,
   "id": "d25aa751-5d3f-4750-991c-84016b32cd5b",
   "metadata": {},
   "outputs": [],
   "source": [
    "def find_n_matches(_input, K):\n",
    "    qvec = create_vector_embedding(_input)\n",
    "    \n",
    "    metadata, text, vectors = load_library(library_directory_path,\n",
    "                                           library_text_path,\n",
    "                                           library_vectors_path\n",
    "                                          )\n",
    "\n",
    "    vectors_df = pd.DataFrame(vectors)\n",
    "    matches_df = topk_cosine(vectors_df, qvec, K)\n",
    "    df = matches_df.merge(metadata, on=\"chunk_uid\", how=\"inner\")\n",
    "    df = df.merge(text, on=\"chunk_uid\", how=\"inner\")\n",
    "    \n",
    "    return df"
   ]
  },
  {
   "cell_type": "code",
   "execution_count": 212,
   "id": "a5502da2-b820-4ab0-bd62-2ba6a8a84f72",
   "metadata": {},
   "outputs": [],
   "source": [
    "_input = \"Whether because they resented the lack of choice — the way access to discounts effectively forced you to pay extra for shopping without a card — or worried about the unknown fate of their shopping data, customers found ways to make the data gathered about them less reliable, less useful, for its conjectured purposes.\"\n",
    "\n",
    "matches = find_n_matches(_input, 3)"
   ]
  },
  {
   "cell_type": "code",
   "execution_count": 216,
   "id": "74bb0746-a272-46bd-8477-96f857a3ba1e",
   "metadata": {},
   "outputs": [
    {
     "name": "stdout",
     "output_type": "stream",
     "text": [
      "0.7177309989929199 \n",
      " Whether because they resented the lack of choice — the way access to discounts effectively forced you to pay extra for shopping without a card — or worried about the unknown fate of their shopping data, customers found ways to make the data gathered about them less reliable, less useful, for its conjectured purposes. These defensive projects, the objections that sparked them, and the context in which they hoped for results constitute a form of vernacular resistance to data gathering and aggregation that we call obfuscation. By obfuscation, we mean producing misleading, false, or ambiguous data to make data gathering less reliable and therefore less valuable. The fundamental anxiety the loyalty card protests speak to is obvious. Computer–enabled data collection, aggregation, and mining dramatically change the nature of contemporary surveillance. Innocuous traces of everyday life submitted to sophisticated analytics tools developed for commerce and governance can become the keys for stitching disparate databases together into unprecedented new wholes. This data is often gathered under conditions of profound power imbalance. \n",
      "\n",
      "0.7104706764221191 \n",
      " So far, so normal — but the appearance of “loyalty cards,” with their rather sinister Orwellian name, and direct connection of data collection with access to sales and discounts, sparked a strange revolt. Customers engaged in boycotts and tongue–in–cheek protests, but as loyalty cards became more common, and apparently permanent, strategies appeared to mitigate the perceived loss of privacy without entirely giving up the cards, and therefore the savings. Groups formed loyalty card swapping pools online, circulating the cards by mail or meetups; others created armies of clone shoppers by duplicating their cards over and over and distributing them to friends and strangers; households of roommates shared a single card. Whether because they resented the lack of choice — the way access to discounts effectively forced you to pay extra for shopping without a card — or worried about the unknown fate of their shopping data, customers found ways to make the data gathered about them less reliable, less useful, for its conjectured purposes. These defensive projects, the objections that sparked them, and the context in which they hoped for results constitute a form of vernacular resistance to data gathering and aggregation that we call obfuscation. \n",
      "\n",
      "0.6913698315620422 \n",
      " 1. Introduction: The problem of data gathering — Asymmetries of power and knowledge What is obfuscation? Supermarkets and grocery chains have always been in the data business, as well as the food business: with small profit margins and a product that can quickly spoil, they pay close attention to inventory, purchasing patterns, and geography. The introduction of store “loyalty cards” perfectly fit a decades–long pattern: rewarding loyal customers with additional discounts in return for better data, which could inform mailings, coupon campaigns, even which products to shelve together. So far, so normal — but the appearance of “loyalty cards,” with their rather sinister Orwellian name, and direct connection of data collection with access to sales and discounts, sparked a strange revolt. Customers engaged in boycotts and tongue–in–cheek protests, but as loyalty cards became more common, and apparently permanent, strategies appeared to mitigate the perceived loss of privacy without entirely giving up the cards, and therefore the savings. \n",
      "\n"
     ]
    }
   ],
   "source": [
    "for idx, row in matches.iterrows():\n",
    "    print(row[\"cosine\"], \"\\n\", row[\"text\"], \"\\n\")"
   ]
  },
  {
   "cell_type": "code",
   "execution_count": null,
   "id": "90f1bd81-d9ba-487c-b3b0-aa8d36bc5509",
   "metadata": {},
   "outputs": [],
   "source": []
  },
  {
   "cell_type": "code",
   "execution_count": null,
   "id": "46a5401c-6b6b-4f86-878d-5159f8dc5610",
   "metadata": {},
   "outputs": [],
   "source": []
  }
 ],
 "metadata": {
  "kernelspec": {
   "display_name": "Python 3 (ipykernel)",
   "language": "python",
   "name": "python3"
  },
  "language_info": {
   "codemirror_mode": {
    "name": "ipython",
    "version": 3
   },
   "file_extension": ".py",
   "mimetype": "text/x-python",
   "name": "python",
   "nbconvert_exporter": "python",
   "pygments_lexer": "ipython3",
   "version": "3.12.9"
  }
 },
 "nbformat": 4,
 "nbformat_minor": 5
}
