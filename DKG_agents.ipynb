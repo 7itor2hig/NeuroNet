{
 "cells": [
  {
   "cell_type": "code",
   "execution_count": 1,
   "id": "9993c87a-3a2e-4a27-b38e-3408b7b06c3a",
   "metadata": {},
   "outputs": [],
   "source": [
    "import pickle\n",
    "import ollama"
   ]
  },
  {
   "cell_type": "code",
   "execution_count": 3,
   "id": "7e07aa19-c767-4494-b34f-3c0405fca9a5",
   "metadata": {},
   "outputs": [],
   "source": [
    "with open(\"library.pkl\", \"rb\") as f:\n",
    "    library = pickle.load(f)"
   ]
  },
  {
   "cell_type": "code",
   "execution_count": 62,
   "id": "6e14a667-b336-4240-a5d7-c672d70f12fc",
   "metadata": {},
   "outputs": [],
   "source": [
    "def summary_agent(text, model='deepseek-llm:latest'):\n",
    "    prompt = f\"\"\"\n",
    "Summarize the following text using **only one word**. No full sentences. No explanations. No bullet points. No labels. Just one word.\n",
    "\n",
    "Text:\n",
    "{text}\n",
    "\n",
    "Output:\n",
    "\"\"\"\n",
    "\n",
    "    response = ollama.chat(\n",
    "        model=model,\n",
    "        messages=[{\n",
    "            \"role\" : \"user\",\n",
    "            \"content\" : prompt\n",
    "        }])\n",
    "\n",
    "    return response"
   ]
  },
  {
   "cell_type": "code",
   "execution_count": 79,
   "id": "8cf9855d-f230-486e-8e07-2ee578ca6d29",
   "metadata": {},
   "outputs": [],
   "source": [
    "text = library[1700]['text']"
   ]
  },
  {
   "cell_type": "code",
   "execution_count": 80,
   "id": "3c26826f-7e3d-4573-9aa5-ca0ceeecbc7e",
   "metadata": {},
   "outputs": [
    {
     "data": {
      "text/plain": [
       "\". On the other hand, on a cloudless night, when the earth radiates energγ most easilγ, the earth's surface maγ cool down faster than the air immediatelγ above it, and the result is a radiation inversion. This diurnal variation of the temperature profile of the atmosphere up to 450 m is shown in Fig. 1 1.7. The shifting from superadiabatic to inversion conditions and back again is plainlγ evident in the figure. As is commonlγ shown on a weather map, regions of the atmosphere with identifiable characteristics occur throughout the world. Regions that are at higher pressure than the surrounding atmosphere are called highs; those at lower pressure are called lows. Most of the variations in weather and the local temperature profiles of the atmosphere are associated with the existence or movements of these highs and lows. Consider a column of air as it sinks within the atmosphere as shown in Fig. 1 1.8. When the column falls to lower altitudes, it is heated adiabaticallγ as its pres\""
      ]
     },
     "execution_count": 80,
     "metadata": {},
     "output_type": "execute_result"
    }
   ],
   "source": [
    "text"
   ]
  },
  {
   "cell_type": "code",
   "execution_count": 81,
   "id": "c833caf0-c542-4ff9-a402-293b05f04c39",
   "metadata": {},
   "outputs": [],
   "source": [
    "response = summary_agent(text)"
   ]
  },
  {
   "cell_type": "code",
   "execution_count": 82,
   "id": "0451140a-c8aa-4eba-9482-95f6ac3a5237",
   "metadata": {},
   "outputs": [
    {
     "data": {
      "text/plain": [
       "'night'"
      ]
     },
     "execution_count": 82,
     "metadata": {},
     "output_type": "execute_result"
    }
   ],
   "source": [
    "response['message']['content']"
   ]
  },
  {
   "cell_type": "code",
   "execution_count": 56,
   "id": "0f0f9f25-ebac-4470-a3e2-56f0549b0161",
   "metadata": {},
   "outputs": [
    {
     "data": {
      "text/plain": [
       "' Nuclear'"
      ]
     },
     "execution_count": 56,
     "metadata": {},
     "output_type": "execute_result"
    }
   ],
   "source": [
    "response = summary_agent(\"The U.S. Navy uses nuclear propulsion in submarines and surface ships.\")\n",
    "response['message']['content']"
   ]
  },
  {
   "cell_type": "code",
   "execution_count": null,
   "id": "3567f6e5-88a5-4ece-8ea1-cd7cb536353b",
   "metadata": {},
   "outputs": [],
   "source": []
  }
 ],
 "metadata": {
  "kernelspec": {
   "display_name": "Python 3 (ipykernel)",
   "language": "python",
   "name": "python3"
  },
  "language_info": {
   "codemirror_mode": {
    "name": "ipython",
    "version": 3
   },
   "file_extension": ".py",
   "mimetype": "text/x-python",
   "name": "python",
   "nbconvert_exporter": "python",
   "pygments_lexer": "ipython3",
   "version": "3.12.9"
  }
 },
 "nbformat": 4,
 "nbformat_minor": 5
}
