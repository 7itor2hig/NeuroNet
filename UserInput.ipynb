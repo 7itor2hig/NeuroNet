{
 "cells": [
  {
   "cell_type": "code",
   "execution_count": 485,
   "id": "d538046e-557f-4844-8a70-038684e88555",
   "metadata": {},
   "outputs": [],
   "source": [
    "import csv\n",
    "import os\n",
    "import datetime as datetime\n",
    "from datetime import datetime, timezone\n",
    "import pandas as pd\n",
    "import numpy as np\n",
    "import hashlib\n",
    "from sentence_transformers import SentenceTransformer\n",
    "from pathlib import Path\n",
    "import pickle"
   ]
  },
  {
   "cell_type": "code",
   "execution_count": 401,
   "id": "a51ac941-aeb0-45c3-9a28-6d9816dd2435",
   "metadata": {},
   "outputs": [],
   "source": [
    "def get_iso_time():\n",
    "    now = datetime.now(timezone.utc)\n",
    "    timestamp_iso = now.isoformat(timespec=\"milliseconds\")\n",
    "    timestamp_iso = timestamp_iso.replace(\"+00:00\", \"Z\")\n",
    "    timestamp_ms = int(now.timestamp()*1000)\n",
    "\n",
    "    return timestamp_iso, timestamp_ms"
   ]
  },
  {
   "cell_type": "code",
   "execution_count": 425,
   "id": "b6fead0b-8c66-47c0-a326-ebb528b49867",
   "metadata": {},
   "outputs": [],
   "source": [
    "def get_uid(text: str) -> str:\n",
    "    return hashlib.sha256(text.encode(\"utf-8\")).hexdigest()"
   ]
  },
  {
   "cell_type": "code",
   "execution_count": 405,
   "id": "3f4ad6c9-63e9-4904-ab99-44bc3ca92493",
   "metadata": {},
   "outputs": [],
   "source": [
    "def create_vector_embedding(text, embedding_model=\"sentence-transformers/all-MiniLM-L6-v2\"):\n",
    "    model = SentenceTransformer(embedding_model)\n",
    "    return model.encode(text, normalize_embeddings=True) #return vector"
   ]
  },
  {
   "cell_type": "code",
   "execution_count": 373,
   "id": "b94feddc-c900-4738-9feb-81c0a935af59",
   "metadata": {},
   "outputs": [],
   "source": [
    "#check if there is an existing row in the input history for user where the same input was already used on the same model\n",
    "#returns row where user_input and model combination already exist\n",
    "def check_existing_input(user_input, prompt_model, filename):\n",
    "    if not os.path.isfile(filename):\n",
    "        return None\n",
    "\n",
    "    df = pd.read_csv(filename)\n",
    "\n",
    "    matches = df.loc[(df['model'] == prompt_model) & (df['user_input'] == user_input)].copy()\n",
    "\n",
    "    return matches if not matches.empty else None"
   ]
  },
  {
   "cell_type": "code",
   "execution_count": 501,
   "id": "86cb909a-4d16-49b1-ba56-333e51c6cb93",
   "metadata": {},
   "outputs": [],
   "source": [
    "def save_input_embedding(user_hash, user_input, input_uid):\n",
    "    filename = user_hash+\"_InputEmbeddings.pkl\"\n",
    "    embedding = create_vector_embedding(user_input)\n",
    "\n",
    "    new_row = {\n",
    "        \"uid\" : input_uid,\n",
    "        \"embedding\" : embedding\n",
    "    }\n",
    "    \n",
    "    if os.path.isfile(filename):\n",
    "        with open(filename, \"rb\") as f:\n",
    "            data = pickle.load(f)\n",
    "\n",
    "    else:\n",
    "        data = []\n",
    "\n",
    "    data.append(new_row)\n",
    "\n",
    "    with open(filename, \"wb\") as f:\n",
    "        pickle.dump(data, f, "
   ]
  },
  {
   "cell_type": "code",
   "execution_count": 493,
   "id": "b53e044b-df86-49a4-a19a-cf5588715131",
   "metadata": {},
   "outputs": [],
   "source": [
    "def load_input_embeddings(user):\n",
    "    user_hash = get_uid(user)\n",
    "    filename = user_hash+\"_InputEmbeddings.pkl\"\n",
    "\n",
    "    with open(filename, \"rb\") as f:\n",
    "        return pickle.load(f)"
   ]
  },
  {
   "cell_type": "code",
   "execution_count": 481,
   "id": "8abb892e-0d57-47aa-a6a5-a6c7c958ad69",
   "metadata": {},
   "outputs": [],
   "source": [
    "def save_user_input(user, user_input, prompt_model):\n",
    "    user_hash = get_uid(user)\n",
    "    input_uid = get_uid(user_input)\n",
    "    filename = user_hash+\"_InputHistory.csv\"\n",
    "    \n",
    "    if not os.path.isfile(filename):\n",
    "        with open(filename, mode='w', newline='', encoding='utf-8') as file:\n",
    "            writer = csv.writer(file)\n",
    "            writer.writerow([\n",
    "                'user_input',\n",
    "                'input_uid',\n",
    "                'prompt_model',\n",
    "                'timestamp_iso',\n",
    "                'timestamp_ms',\n",
    "                'processed'\n",
    "            ])\n",
    "\n",
    "    existing_row = check_existing_input(user_input, prompt_model, filename)\n",
    "    \n",
    "    if existing_row is not None:\n",
    "        dt = existing_row['timestamp_ms'].iloc[0]\n",
    "        dt = datetime.fromtimestamp(dt / 1000)\n",
    "        print(f\"Input already used at: {dt}\")\n",
    "        return False\n",
    "\n",
    "\n",
    "    timestamp_iso, timestamp_ms = get_iso_time()\n",
    "\n",
    "    with open(filename, mode='a', newline='', encoding='utf-8') as file:\n",
    "        writer = csv.writer(file)\n",
    "        writer.writerow([\n",
    "            user_input,\n",
    "            input_uid,\n",
    "            prompt_model,\n",
    "            timestamp_iso,\n",
    "            timestamp_ms,\n",
    "            0 #default=0, new inputs have not been processed yet\n",
    "        ])\n",
    "\n",
    "    save_input_embedding(user_hash, user_input, input_uid)\n",
    "\n",
    "    return True"
   ]
  },
  {
   "cell_type": "code",
   "execution_count": 507,
   "id": "249129d9-7bd0-49db-9887-8a7d13ddfff6",
   "metadata": {},
   "outputs": [
    {
     "data": {
      "text/plain": [
       "True"
      ]
     },
     "execution_count": 507,
     "metadata": {},
     "output_type": "execute_result"
    }
   ],
   "source": [
    "user = \"TylerTwohig\"\n",
    "user_input = \"Information Management\"\n",
    "prompt_model = \"DeepSeek-R1:latest\"\n",
    "save_user_input(\"TylerTwohig\", user_input, prompt_model)"
   ]
  },
  {
   "cell_type": "code",
   "execution_count": 509,
   "id": "914b75d9-bc57-4307-a674-b8c412aece64",
   "metadata": {},
   "outputs": [
    {
     "data": {
      "text/plain": [
       "{'uid': 'a079668dc66b55b88a801e2219696a47ebbd7eb24ac237ad2c564f280d6a9d74',\n",
       " 'embedding': array([-7.47088296e-03,  7.36775994e-03, -6.35581687e-02,  7.08959997e-03,\n",
       "         7.36777717e-03, -1.24465138e-01,  5.55474982e-02, -4.48255390e-02,\n",
       "        -1.34394586e-03, -1.45677440e-02,  4.76301461e-02, -9.43189953e-03,\n",
       "         5.82622811e-02, -4.04143054e-03,  3.51349358e-03, -5.33940680e-02,\n",
       "        -2.22287495e-02, -4.26370874e-02, -1.55912368e-02, -5.87078482e-02,\n",
       "         7.13874772e-02,  1.37665104e-02, -2.97953747e-02,  6.12018146e-02,\n",
       "         5.20947389e-03, -7.63953850e-02, -4.47054692e-02, -2.77937707e-02,\n",
       "         1.23374863e-02,  4.65337522e-02, -9.40869898e-02,  1.01869889e-01,\n",
       "        -1.90709122e-02, -7.24914856e-03,  2.59785336e-02,  4.24574725e-02,\n",
       "         1.55037222e-02, -1.61595643e-02, -7.08485954e-03,  5.99630326e-02,\n",
       "        -1.97398625e-02, -4.78516556e-02, -9.55943018e-03, -5.29749542e-02,\n",
       "        -2.37779226e-02,  6.98011369e-02, -7.15116337e-02,  3.20657752e-02,\n",
       "        -3.65176126e-02, -3.69159915e-02, -1.24158971e-02,  1.25961870e-01,\n",
       "        -5.78534231e-02, -4.80877759e-04,  1.38725359e-02, -3.89739536e-02,\n",
       "        -5.53322374e-04,  8.81882571e-03, -2.47152764e-02, -4.73241322e-02,\n",
       "        -2.08989903e-02, -9.80711728e-03, -3.31847928e-02,  5.45163676e-02,\n",
       "         2.86958925e-02, -6.66713342e-03, -8.45334008e-02, -9.65550095e-02,\n",
       "         9.67731886e-03,  6.67638555e-02,  3.27205611e-03, -3.76065560e-02,\n",
       "         2.08011363e-03,  5.19037805e-02,  5.51275760e-02, -6.21533282e-02,\n",
       "         1.24280855e-01, -3.55247594e-02,  3.81026492e-02,  5.07668406e-02,\n",
       "        -5.84107973e-02, -7.16627985e-02, -2.58371588e-02, -4.12255479e-03,\n",
       "        -3.28575820e-03, -1.07225083e-01, -4.77210693e-02,  4.16823626e-02,\n",
       "         1.56180337e-02,  1.28353059e-01,  5.70538640e-02, -4.36679646e-02,\n",
       "         4.13304195e-03,  7.34936586e-03,  5.26757874e-02,  5.38937971e-02,\n",
       "         7.15562515e-03, -3.34514230e-02, -4.19087037e-02, -8.08133632e-02,\n",
       "         1.91683896e-04, -9.37876031e-02,  3.88125144e-02,  3.32174636e-02,\n",
       "         9.04133692e-02, -3.32559757e-02,  5.52025624e-02, -9.96651798e-02,\n",
       "        -3.19539511e-04, -5.43108210e-02, -1.70567278e-02, -4.77473475e-02,\n",
       "         6.91976845e-02, -5.77083975e-02, -2.66392678e-02,  5.09657227e-02,\n",
       "        -1.32474247e-02,  5.31705283e-02, -3.08776256e-02, -1.68218724e-02,\n",
       "        -2.45111547e-02,  3.01956246e-03,  8.11099783e-02,  6.22486398e-02,\n",
       "        -2.54129488e-02, -1.01661712e-01, -2.98846643e-02,  1.20619055e-33,\n",
       "        -5.95325679e-02, -9.34160501e-03,  3.19759510e-02, -7.04740882e-02,\n",
       "        -4.43579070e-02, -2.69442257e-02, -1.18233785e-02,  3.28178816e-02,\n",
       "         9.34710167e-03,  7.91071504e-02, -2.39831358e-02,  8.50247443e-02,\n",
       "        -1.50373047e-02,  5.58182672e-02,  3.75994481e-02,  6.98448047e-02,\n",
       "         4.22362797e-02, -8.75419378e-03, -1.66877918e-02, -5.04236259e-02,\n",
       "         8.15186575e-02, -6.72696671e-03, -1.55891981e-02,  6.12238608e-02,\n",
       "         7.98995141e-03, -3.96772958e-02, -5.22628240e-02, -3.46634164e-02,\n",
       "        -4.07080948e-02,  2.78536230e-02, -1.11658074e-01, -5.98457754e-02,\n",
       "         1.44487053e-01,  1.76859535e-02,  3.53796370e-02,  8.86299759e-02,\n",
       "        -7.14772418e-02, -1.45909898e-02, -1.60643291e-02, -4.03505564e-03,\n",
       "        -9.21972170e-02, -1.34667652e-02, -1.25581296e-02,  1.83300138e-03,\n",
       "         2.63458323e-02, -7.04640672e-02, -5.51079735e-02,  6.05807677e-02,\n",
       "        -2.59736311e-02,  1.18356504e-01,  3.68123204e-02,  1.07389980e-03,\n",
       "         7.95982555e-02,  5.96712790e-02, -1.28536774e-02, -1.64296199e-02,\n",
       "         1.12189151e-01,  4.78522591e-02, -7.32965320e-02, -4.70383577e-02,\n",
       "         3.75158414e-02, -4.06974256e-02,  1.26606496e-02, -4.60968316e-02,\n",
       "        -5.16767204e-02,  1.02750979e-01,  8.45012348e-03,  2.40617953e-02,\n",
       "         5.67788184e-02,  1.69192851e-02, -4.93437797e-02,  5.42136170e-02,\n",
       "        -3.98553759e-02, -1.60614643e-02,  9.44534841e-04, -2.00874954e-02,\n",
       "         3.77181284e-02, -2.05807351e-02,  3.18956487e-02, -1.17101036e-02,\n",
       "         3.60574722e-02,  1.82861816e-02, -7.49204233e-02,  2.51783188e-02,\n",
       "        -6.64213151e-02,  9.24467016e-03,  1.14816455e-02,  1.94836408e-02,\n",
       "        -8.96574371e-03, -4.40638624e-02, -4.74219862e-03, -5.28950654e-02,\n",
       "        -1.42353307e-02,  3.12731834e-03, -2.78236587e-02, -4.26930548e-33,\n",
       "        -5.02936728e-03,  5.63725494e-02, -1.91914365e-02,  1.79475192e-02,\n",
       "        -6.08371273e-02, -4.84322608e-02,  5.06932214e-02, -4.61888425e-02,\n",
       "         1.26050428e-01, -9.66110229e-02,  3.55944559e-02, -2.98204385e-02,\n",
       "        -3.14560346e-02, -3.37722637e-02,  3.33357370e-03,  1.87487435e-02,\n",
       "        -9.92330462e-02,  1.31967552e-02, -4.58308831e-02,  3.85948382e-02,\n",
       "        -6.94084913e-02,  3.31430770e-02, -4.17666361e-02,  2.00650170e-02,\n",
       "        -6.17305860e-02,  1.79055557e-02, -6.47000596e-02, -8.58484581e-02,\n",
       "         5.42206615e-02,  2.27779467e-02, -1.57375224e-02,  8.69341642e-02,\n",
       "        -1.14350375e-02,  3.71446908e-02, -1.54588344e-02, -5.41180037e-02,\n",
       "         8.41306895e-02, -3.10064796e-02, -2.83038057e-02, -1.17376158e-02,\n",
       "         1.03425622e-01,  1.11287877e-01,  5.12675121e-02,  9.88701731e-02,\n",
       "         2.31225360e-02,  3.51084732e-02, -1.96038056e-02,  3.18530737e-03,\n",
       "         2.66493540e-02, -6.06690533e-02,  3.34971696e-02,  3.15062739e-02,\n",
       "         1.64019763e-02,  1.34088159e-01, -3.34404632e-02,  2.72639263e-02,\n",
       "        -1.08987346e-01,  1.16330171e-02,  1.08055193e-02, -3.60976681e-02,\n",
       "        -4.34349626e-02, -7.05512688e-02,  1.32564269e-02,  6.83387965e-02,\n",
       "        -1.06542371e-01,  3.44027244e-02, -7.95556679e-02,  8.10661688e-02,\n",
       "        -5.13949757e-03, -6.45187050e-02,  7.59450793e-02,  1.34181371e-02,\n",
       "        -2.30865795e-02, -6.62472025e-02, -1.49873570e-01,  3.67343202e-02,\n",
       "        -1.17919757e-03, -2.04845332e-02, -3.60399000e-02,  7.06262589e-02,\n",
       "         2.01524105e-02,  4.20961566e-02,  1.48579283e-02,  5.23953885e-02,\n",
       "        -9.10887942e-02, -1.77996494e-02,  2.73799733e-03,  6.50336146e-02,\n",
       "        -2.73506586e-02,  4.89357896e-02, -1.41467210e-02,  3.39807495e-02,\n",
       "        -1.80699565e-02,  1.41865844e-02, -1.36086419e-02, -3.85923222e-08,\n",
       "        -1.76894944e-02,  5.58997355e-02, -1.04055386e-02, -2.82480661e-02,\n",
       "        -4.65242844e-03,  1.72299761e-02,  3.60746197e-02, -3.95231284e-02,\n",
       "         1.21826269e-02,  1.30397258e-02, -3.37086763e-04,  4.69576977e-02,\n",
       "        -7.88173005e-02, -6.69327080e-02,  2.26265248e-02,  7.38858581e-02,\n",
       "        -5.05139977e-02, -7.68360347e-02,  4.36814018e-02, -2.70423088e-02,\n",
       "         2.19663717e-02, -2.60651335e-02, -7.86487460e-02,  6.02077208e-02,\n",
       "        -4.09379303e-02,  5.02920561e-02, -1.73448864e-02,  5.55581925e-03,\n",
       "         2.29261834e-02, -8.08684807e-03,  6.39323145e-02, -1.20232776e-02,\n",
       "         7.51935393e-02,  9.20775533e-03,  4.27552722e-02,  9.58917961e-02,\n",
       "        -2.31933221e-03,  3.69665213e-02, -4.29429188e-02,  8.30690786e-02,\n",
       "        -8.32698643e-02, -6.68782070e-02, -5.89814968e-02,  2.77267816e-03,\n",
       "        -3.97783108e-02,  2.86674276e-02, -3.39750238e-02,  5.78115322e-02,\n",
       "        -5.23984358e-02, -3.19790579e-02, -3.81006375e-02,  6.62452057e-02,\n",
       "        -9.87795740e-02, -3.87017615e-02,  2.16245092e-02,  1.05313305e-02,\n",
       "        -1.92174446e-02,  6.65067658e-02, -2.95212697e-02, -7.66329933e-03,\n",
       "         8.32059756e-02,  5.00912145e-02,  4.31001186e-02, -3.13611329e-02],\n",
       "       dtype=float32)}"
      ]
     },
     "execution_count": 509,
     "metadata": {},
     "output_type": "execute_result"
    }
   ],
   "source": [
    "load_input_embeddings(\"TylerTwohig\")"
   ]
  },
  {
   "cell_type": "code",
   "execution_count": null,
   "id": "c360d2ca-e3a6-4f32-ae8d-81d860075d7f",
   "metadata": {},
   "outputs": [],
   "source": []
  }
 ],
 "metadata": {
  "kernelspec": {
   "display_name": "Python [conda env:python312]",
   "language": "python",
   "name": "conda-env-python312-py"
  },
  "language_info": {
   "codemirror_mode": {
    "name": "ipython",
    "version": 3
   },
   "file_extension": ".py",
   "mimetype": "text/x-python",
   "name": "python",
   "nbconvert_exporter": "python",
   "pygments_lexer": "ipython3",
   "version": "3.12.9"
  }
 },
 "nbformat": 4,
 "nbformat_minor": 5
}
