{
 "cells": [
  {
   "cell_type": "code",
   "execution_count": 46,
   "id": "d538046e-557f-4844-8a70-038684e88555",
   "metadata": {},
   "outputs": [],
   "source": [
    "import csv\n",
    "import os\n",
    "import datetime as datetime\n",
    "from datetime import datetime, timezone\n",
    "import pandas as pd"
   ]
  },
  {
   "cell_type": "code",
   "execution_count": 5,
   "id": "5f08f0eb-ead7-453e-b532-4bff68b7099c",
   "metadata": {},
   "outputs": [],
   "source": [
    "user=\"TylerTwohig\"\n",
    "\n",
    "user_input = \"\"\"\n",
    "Hello my name is Tyler Twohig. \n",
    "I am a master's student in Information Management & Systems \n",
    "at the University of California, Berkeley\n",
    "\"\"\"\n",
    "\n",
    "model = \"DeepSeek-R1:latest\""
   ]
  },
  {
   "cell_type": "code",
   "execution_count": 7,
   "id": "a51ac941-aeb0-45c3-9a28-6d9816dd2435",
   "metadata": {},
   "outputs": [],
   "source": [
    "def get_iso_time():\n",
    "    now = datetime.now(timezone.utc)\n",
    "    timestamp_iso = now.isoformat(timespec=\"milliseconds\")\n",
    "    timestamp_iso = timestamp_iso.replace(\"+00:00\", \"Z\")\n",
    "    timestamp_ms = int(now.timestamp()*1000)\n",
    "\n",
    "    return timestamp_iso, timestamp_ms"
   ]
  },
  {
   "cell_type": "code",
   "execution_count": 222,
   "id": "b94feddc-c900-4738-9feb-81c0a935af59",
   "metadata": {},
   "outputs": [],
   "source": [
    "#check if there is an existing row in the input history for user where the same input was already used on the same model\n",
    "#returns row where user_input and model combination already exist\n",
    "\n",
    "def check_existing_input(user_input, model, filename):\n",
    "    if not os.path.isfile(filename):\n",
    "        return None\n",
    "\n",
    "    df = pd.read_csv(filename)\n",
    "\n",
    "    matches = df.loc[(df['model'] == model) & (df['user_input'] == user_input)].copy()\n",
    "\n",
    "    return matches if not matches.empty else None"
   ]
  },
  {
   "cell_type": "code",
   "execution_count": 305,
   "id": "8abb892e-0d57-47aa-a6a5-a6c7c958ad69",
   "metadata": {},
   "outputs": [],
   "source": [
    "def save_user_input(user_input, model, filename=user+\"_input_history.csv\"):\n",
    "    \n",
    "    if not os.path.isfile(filename):\n",
    "        with open(filename, mode='w', newline='', encoding='utf-8') as file:\n",
    "            writer = csv.writer(file)\n",
    "            writer.writerow([\n",
    "                'timestamp_iso',\n",
    "                'timestamp_ms',\n",
    "                'model',\n",
    "                'user_input',\n",
    "                'processed'\n",
    "            ])\n",
    "\n",
    "    existing_row = check_existing_input(user_input, model, filename)\n",
    "    \n",
    "    if existing_row is not None:\n",
    "        dt = existing_row['timestamp_ms'].iloc[0]\n",
    "        dt = datetime.fromtimestamp(dt / 1000)\n",
    "        print(f\"Input already used at: {dt}\")\n",
    "        return False\n",
    "\n",
    "\n",
    "    timestamp_iso, timestamp_ms = get_iso_time()\n",
    "\n",
    "    with open(filename, mode='a', newline='', encoding='utf-8') as file:\n",
    "        writer = csv.writer(file)\n",
    "        writer.writerow([\n",
    "            timestamp_iso,\n",
    "            timestamp_ms,\n",
    "            model,\n",
    "            user_input,\n",
    "            0 #default=0, new inputs have not been processed yet\n",
    "        ])\n",
    "\n",
    "    return True"
   ]
  },
  {
   "cell_type": "code",
   "execution_count": 309,
   "id": "249129d9-7bd0-49db-9887-8a7d13ddfff6",
   "metadata": {},
   "outputs": [
    {
     "name": "stdout",
     "output_type": "stream",
     "text": [
      "Input already used at: 2025-08-30 17:17:54.876000\n"
     ]
    },
    {
     "data": {
      "text/plain": [
       "False"
      ]
     },
     "execution_count": 309,
     "metadata": {},
     "output_type": "execute_result"
    }
   ],
   "source": [
    "save_user_input(\"s\", model)"
   ]
  }
 ],
 "metadata": {
  "kernelspec": {
   "display_name": "Python [conda env:python312]",
   "language": "python",
   "name": "conda-env-python312-py"
  },
  "language_info": {
   "codemirror_mode": {
    "name": "ipython",
    "version": 3
   },
   "file_extension": ".py",
   "mimetype": "text/x-python",
   "name": "python",
   "nbconvert_exporter": "python",
   "pygments_lexer": "ipython3",
   "version": "3.12.9"
  }
 },
 "nbformat": 4,
 "nbformat_minor": 5
}
