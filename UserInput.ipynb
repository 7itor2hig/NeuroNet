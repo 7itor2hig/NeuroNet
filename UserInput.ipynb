{
 "cells": [
  {
   "cell_type": "code",
   "execution_count": 9,
   "id": "d538046e-557f-4844-8a70-038684e88555",
   "metadata": {},
   "outputs": [],
   "source": [
    "import csv\n",
    "import os\n",
    "import datetime as datetime\n",
    "from datetime import datetime, timezone"
   ]
  },
  {
   "cell_type": "code",
   "execution_count": 16,
   "id": "5f08f0eb-ead7-453e-b532-4bff68b7099c",
   "metadata": {},
   "outputs": [],
   "source": [
    "user=\"TylerTwohig\"\n",
    "\n",
    "user_input = \"\"\"\n",
    "Hello my name is Tyler Twohig. \n",
    "I am a master's student in Information Management & Systems \n",
    "at the University of California, Berkeley\n",
    "\"\"\"\n",
    "\n",
    "model = \"DeepSeek-R1:latest\""
   ]
  },
  {
   "cell_type": "code",
   "execution_count": 11,
   "id": "a51ac941-aeb0-45c3-9a28-6d9816dd2435",
   "metadata": {},
   "outputs": [],
   "source": [
    "def get_iso_time():\n",
    "    now = datetime.now(timezone.utc)\n",
    "    timestamp_iso = now.isoformat(timespec=\"milliseconds\")\n",
    "    timestamp_iso = timestamp_iso.replace(\"+00:00\", \"Z\")\n",
    "    timestamp_ms = int(now.timestamp()*1000)\n",
    "\n",
    "    return timestamp_iso, timestamp_ms"
   ]
  },
  {
   "cell_type": "code",
   "execution_count": 18,
   "id": "c05e3a1f-982e-4e7e-a284-10accd09c9aa",
   "metadata": {},
   "outputs": [],
   "source": [
    "def save_user_prompt(user_input, model, filename=user+\"_input_history.csv\"):\n",
    "\n",
    "    file_exists = os.path.isfile(filename)\n",
    "    \n",
    "    with open(filename, mode='a', newline='') as file:\n",
    "        writer = csv.writer(file)\n",
    "\n",
    "        if not file_exists:\n",
    "            writer.writerow(['timestamp_iso','timestamp_ms','model','user_input'])\n",
    "\n",
    "        timestamp_iso, timestamp_ms = get_iso_time()\n",
    "        \n",
    "        writer.writerow([timestamp_iso, timestamp_ms, model, user_input])"
   ]
  },
  {
   "cell_type": "code",
   "execution_count": 19,
   "id": "249129d9-7bd0-49db-9887-8a7d13ddfff6",
   "metadata": {},
   "outputs": [],
   "source": [
    "save_user_prompt(user_input, model)"
   ]
  },
  {
   "cell_type": "code",
   "execution_count": null,
   "id": "9cf00421-9f39-49cb-8408-be36c5ae91fc",
   "metadata": {},
   "outputs": [],
   "source": []
  }
 ],
 "metadata": {
  "kernelspec": {
   "display_name": "Python 3 (ipykernel)",
   "language": "python",
   "name": "python3"
  },
  "language_info": {
   "codemirror_mode": {
    "name": "ipython",
    "version": 3
   },
   "file_extension": ".py",
   "mimetype": "text/x-python",
   "name": "python",
   "nbconvert_exporter": "python",
   "pygments_lexer": "ipython3",
   "version": "3.12.2"
  }
 },
 "nbformat": 4,
 "nbformat_minor": 5
}
