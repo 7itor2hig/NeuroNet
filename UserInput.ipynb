{
 "cells": [
  {
   "cell_type": "code",
   "execution_count": 3,
   "id": "d538046e-557f-4844-8a70-038684e88555",
   "metadata": {},
   "outputs": [],
   "source": [
    "import csv\n",
    "import os\n",
    "import datetime as datetime\n",
    "from datetime import datetime, timezone\n",
    "import pandas as pd\n",
    "import numpy as np\n",
    "import hashlib\n",
    "from sentence_transformers import SentenceTransformer\n",
    "from pathlib import Path\n",
    "import pickle"
   ]
  },
  {
   "cell_type": "markdown",
   "id": "39672d76-c4eb-44b9-96d2-2d574f7f5e5f",
   "metadata": {},
   "source": [
    "CMC Act Taxonomy (Herring, Das & Penumarthy, updated 2024 — 18 acts + 2 meta-acts)"
   ]
  },
  {
   "cell_type": "code",
   "execution_count": 4,
   "id": "a51ac941-aeb0-45c3-9a28-6d9816dd2435",
   "metadata": {},
   "outputs": [],
   "source": [
    "def get_iso_time():\n",
    "    now = datetime.now(timezone.utc)\n",
    "    timestamp_iso = now.isoformat(timespec=\"milliseconds\")\n",
    "    timestamp_iso = timestamp_iso.replace(\"+00:00\", \"Z\")\n",
    "    timestamp_ms = int(now.timestamp()*1000)\n",
    "\n",
    "    return timestamp_iso, timestamp_ms"
   ]
  },
  {
   "cell_type": "code",
   "execution_count": 5,
   "id": "b6fead0b-8c66-47c0-a326-ebb528b49867",
   "metadata": {},
   "outputs": [],
   "source": [
    "def get_uid(text: str) -> str:\n",
    "    return hashlib.sha256(text.encode(\"utf-8\")).hexdigest()"
   ]
  },
  {
   "cell_type": "code",
   "execution_count": 6,
   "id": "3f4ad6c9-63e9-4904-ab99-44bc3ca92493",
   "metadata": {},
   "outputs": [],
   "source": [
    "def create_vector_embedding(text, embedding_model=\"sentence-transformers/all-MiniLM-L6-v2\"):\n",
    "    model = SentenceTransformer(embedding_model)\n",
    "    return model.encode(text, normalize_embeddings=True) #return vector"
   ]
  },
  {
   "cell_type": "code",
   "execution_count": 12,
   "id": "b94feddc-c900-4738-9feb-81c0a935af59",
   "metadata": {},
   "outputs": [],
   "source": [
    "#check if there is an existing row in the input history for user where the same input was already used on the same model\n",
    "#returns row where user_input and model combination already exist\n",
    "def check_existing_input(user_input, prompt_model, filename):\n",
    "    if not os.path.isfile(filename):\n",
    "        return None\n",
    "\n",
    "    df = pd.read_csv(filename)\n",
    "\n",
    "    matches = df.loc[(df['prompt_model'] == prompt_model) & (df['user_input'] == user_input)].copy()\n",
    "\n",
    "    return matches if not matches.empty else None"
   ]
  },
  {
   "cell_type": "code",
   "execution_count": 22,
   "id": "86cb909a-4d16-49b1-ba56-333e51c6cb93",
   "metadata": {},
   "outputs": [],
   "source": [
    "def save_input_embedding(user_hash, user_input, input_uid, embedding_model='sentence-transformers/all-MiniLM-L6-v2'):\n",
    "    filename = user_hash+\"_InputEmbeddings.pkl\"\n",
    "    embedding = create_vector_embedding(user_input, embedding_model)\n",
    "\n",
    "    new_row = {\n",
    "        \"uid\" : input_uid,\n",
    "        \"embedding\" : embedding\n",
    "    }\n",
    "    \n",
    "    if os.path.isfile(filename):\n",
    "        with open(filename, \"rb\") as f:\n",
    "            data = pickle.load(f)\n",
    "\n",
    "    else:\n",
    "        data = []\n",
    "\n",
    "    data.append(new_row)\n",
    "\n",
    "    with open(filename, \"wb\") as f:\n",
    "        pickle.dump(data, f, protocol=pickle.HIGHEST_PROTOCOL)"
   ]
  },
  {
   "cell_type": "code",
   "execution_count": 63,
   "id": "72c3e909-d08c-4319-8e44-e76b30355bfb",
   "metadata": {},
   "outputs": [],
   "source": [
    "def create_all_input_embeddings(user, embedding_model='sentence-transformers/all-MiniLM-L6-v2'):\n",
    "    user_hash = get_uid(user)\n",
    "    filename = user_hash+\"_InputHistory.csv\"\n",
    "    temp_file = user_hash+\"InputHistory_temp.csv\"\n",
    "    changed = False\n",
    "\n",
    "    if not os.path.isfile(filename):\n",
    "        print(f\"File does not exist for user: {user}\")\n",
    "        return False\n",
    "\n",
    "    df = pd.read_csv(\n",
    "        filename,\n",
    "        dtype={\n",
    "            \"embedding_exists\" : \"int64\",\n",
    "            \"embedding_model\" : \"string\"\n",
    "        }\n",
    "    )\n",
    "\n",
    "    for index, row in df.iterrows():\n",
    "        if row['embedding_exists'] == 0:\n",
    "            save_input_embedding(user_hash, row['user_input'], row['input_uid'], embedding_model)\n",
    "            df.at[index, 'embedding_exists'] = 1\n",
    "            df.at[index, 'embedding_model'] = embedding_model\n",
    "            df.to_csv(temp_file, index=False)\n",
    "            changed = True\n",
    "\n",
    "    if changed:\n",
    "        os.replace(temp_file, filename)\n",
    "        print(\"Updates written to file\")\n",
    "\n",
    "    else:\n",
    "        print(\"No updates written\")"
   ]
  },
  {
   "cell_type": "code",
   "execution_count": 9,
   "id": "b53e044b-df86-49a4-a19a-cf5588715131",
   "metadata": {},
   "outputs": [],
   "source": [
    "def load_input_embeddings(user):\n",
    "    user_hash = get_uid(user)\n",
    "    filename = user_hash+\"_InputEmbeddings.pkl\"\n",
    "\n",
    "    with open(filename, \"rb\") as f:\n",
    "        return pickle.load(f)"
   ]
  },
  {
   "cell_type": "code",
   "execution_count": 59,
   "id": "8abb892e-0d57-47aa-a6a5-a6c7c958ad69",
   "metadata": {},
   "outputs": [],
   "source": [
    "def save_user_input(user, user_input, prompt_model):\n",
    "    user_hash = get_uid(user)\n",
    "    input_uid = get_uid(user_input)\n",
    "    filename = user_hash+\"_InputHistory.csv\"\n",
    "    \n",
    "    if not os.path.isfile(filename):\n",
    "        with open(filename, mode='w', newline='', encoding='utf-8') as file:\n",
    "            writer = csv.writer(file)\n",
    "            writer.writerow([\n",
    "                'user_input',\n",
    "                'input_uid',\n",
    "                'prompt_model',\n",
    "                'timestamp_iso',\n",
    "                'timestamp_ms',\n",
    "                'embedding_exists',\n",
    "                'embedding_model',\n",
    "                'processed'\n",
    "            ])\n",
    "\n",
    "    existing_row = check_existing_input(user_input, prompt_model, filename)\n",
    "    \n",
    "    if existing_row is not None:\n",
    "        dt = existing_row['timestamp_ms'].iloc[0]\n",
    "        dt = datetime.fromtimestamp(dt / 1000)\n",
    "        print(f\"Input already used at: {dt}\")\n",
    "        return False\n",
    "\n",
    "\n",
    "    timestamp_iso, timestamp_ms = get_iso_time()\n",
    "\n",
    "    with open(filename, mode='a', newline='', encoding='utf-8') as file:\n",
    "        writer = csv.writer(file)\n",
    "        writer.writerow([\n",
    "            user_input,\n",
    "            input_uid,\n",
    "            prompt_model,\n",
    "            timestamp_iso,\n",
    "            timestamp_ms,\n",
    "            0, #flag for if a vector embedding exists for the text, default=0\n",
    "            \"None\", #placeholder for vector embedding model used\n",
    "            0 #flag for if the text has been processed by LLM\n",
    "        ])\n",
    "\n",
    "    #save_input_embedding(user_hash, user_input, input_uid)\n",
    "\n",
    "    return True"
   ]
  },
  {
   "cell_type": "code",
   "execution_count": 64,
   "id": "249129d9-7bd0-49db-9887-8a7d13ddfff6",
   "metadata": {},
   "outputs": [
    {
     "data": {
      "text/plain": [
       "True"
      ]
     },
     "execution_count": 64,
     "metadata": {},
     "output_type": "execute_result"
    }
   ],
   "source": [
    "user = \"TylerTwohig\"\n",
    "user_input = \"The quick brown fox jumps over the lazy dog\"\n",
    "prompt_model = \"DeepSeek-R1:latest\"\n",
    "save_user_input(\"TylerTwohig\", user_input, prompt_model)"
   ]
  },
  {
   "cell_type": "markdown",
   "id": "5f904a1f-7c73-4cb9-ae13-0c0126045ee6",
   "metadata": {},
   "source": [
    "CMC Act Taxonomy (Herring, Das & Penumarthy, updated 2024 — 18 acts + 2 meta-acts)"
   ]
  },
  {
   "cell_type": "code",
   "execution_count": 65,
   "id": "4738c253-016d-473c-a511-0a4efb79b2c8",
   "metadata": {},
   "outputs": [
    {
     "name": "stdout",
     "output_type": "stream",
     "text": [
      "Updates written to file\n"
     ]
    }
   ],
   "source": [
    "create_all_input_embeddings(\"TylerTwohig\")"
   ]
  },
  {
   "cell_type": "code",
   "execution_count": null,
   "id": "4edceae3-2b28-40a3-a98d-70d76d90ae55",
   "metadata": {},
   "outputs": [],
   "source": []
  }
 ],
 "metadata": {
  "kernelspec": {
   "display_name": "Python 3 (ipykernel)",
   "language": "python",
   "name": "python3"
  },
  "language_info": {
   "codemirror_mode": {
    "name": "ipython",
    "version": 3
   },
   "file_extension": ".py",
   "mimetype": "text/x-python",
   "name": "python",
   "nbconvert_exporter": "python",
   "pygments_lexer": "ipython3",
   "version": "3.12.9"
  }
 },
 "nbformat": 4,
 "nbformat_minor": 5
}
